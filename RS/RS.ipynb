{
  "nbformat": 4,
  "nbformat_minor": 0,
  "metadata": {
    "colab": {
      "name": "RS.ipynb",
      "provenance": [],
      "collapsed_sections": []
    },
    "kernelspec": {
      "name": "python3",
      "display_name": "Python 3"
    },
    "language_info": {
      "name": "python"
    }
  },
  "cells": [
    {
      "cell_type": "code",
      "metadata": {
        "id": "noffIiYtQGtp"
      },
      "source": [
        "import random\n",
        "import math"
      ],
      "execution_count": 1,
      "outputs": []
    },
    {
      "cell_type": "markdown",
      "metadata": {
        "id": "_KkuDwVDQ_L9"
      },
      "source": [
        "# Funciones"
      ]
    },
    {
      "cell_type": "markdown",
      "metadata": {
        "id": "6Vn961lqRBIl"
      },
      "source": [
        "## Obtenemos nuestra solucion inicial"
      ]
    },
    {
      "cell_type": "code",
      "metadata": {
        "id": "lDvgpThaQnrk"
      },
      "source": [
        "def sol_ini(n,c,ps,ws):\n",
        "    \n",
        "    sol=[]\n",
        "    lim=[]\n",
        "\n",
        "\n",
        "    continuar = True\n",
        "\n",
        "    while continuar:\n",
        "        continuar=False\n",
        "        aux=c-sum(sol)\n",
        "\n",
        "        for i,elemento in enumerate(ws):\n",
        "            if (elemento<=aux) and (i not in lim):\n",
        "                continuar=True\n",
        "\n",
        "\n",
        "        if continuar:\n",
        "\n",
        "            select=random.randint(0,n-1)\n",
        "\n",
        "        \n",
        "            while (select in lim) or (ws[select]>aux):\n",
        "                select=random.randint(0,n-1)\n",
        "\n",
        "            lim.append(select)\n",
        "            sol.append(ws[select])\n",
        "    \n",
        "\n",
        "\n",
        "    aux=[0 for elemento in ps]\n",
        "\n",
        "    for elemento in lim:\n",
        "        aux[int(elemento)]=1\n",
        "\n",
        "\n",
        "\n",
        "    return sol,[ps[i] for i in lim],aux\n",
        "\n"
      ],
      "execution_count": 2,
      "outputs": []
    },
    {
      "cell_type": "markdown",
      "metadata": {
        "id": "txZ15bj5RHTG"
      },
      "source": [
        "## Como trabajo con listas de 0's y 1's para definir mis soluciones(ej. [0,0,0,1,1,0]) tengo que transformar esas listas a los pesos y valores. Eso lo hago con esta funcion"
      ]
    },
    {
      "cell_type": "code",
      "metadata": {
        "id": "x-kRfql1QvbR"
      },
      "source": [
        "def bin_to_element(x,ps,ws):\n",
        "    a=[p for i,p in enumerate(ps) if x[i]==1]\n",
        "    b=[w for i,w in enumerate(ws) if x[i]==1]\n",
        "    return a,b"
      ],
      "execution_count": 3,
      "outputs": []
    },
    {
      "cell_type": "markdown",
      "metadata": {
        "id": "NUU7Gvh5Raki"
      },
      "source": [
        "## Funcion para saber si un vecino es valido (no excede el limite de peso)"
      ]
    },
    {
      "cell_type": "code",
      "metadata": {
        "id": "BtR2skxaQyaF"
      },
      "source": [
        "def available(x,ps,ws,c):\n",
        "    ps_tmp,ws_tmp=bin_to_element(x,ps,ws)\n",
        "    if sum(ws_tmp)>c:\n",
        "        return False\n",
        "    return True"
      ],
      "execution_count": 4,
      "outputs": []
    },
    {
      "cell_type": "markdown",
      "metadata": {
        "id": "6aeAxIz-RhRV"
      },
      "source": [
        "## Genera el vecindario solo con soluciones validas(No excede el peso maximo de la mochila"
      ]
    },
    {
      "cell_type": "code",
      "metadata": {
        "id": "plpHb5fGQ2Qm"
      },
      "source": [
        "def neighborhood(s,ps,ws,c):\n",
        "    res_neighborhood=[]\n",
        "    \n",
        "    for i in range(len(s)):\n",
        "        aux=s[:]\n",
        "\n",
        "        if aux[i]==0:\n",
        "            aux[i]=1\n",
        "            if available(aux,ps,ws,c):\n",
        "                res_neighborhood.append(aux)\n",
        "\n",
        "        else:\n",
        "            aux[i]=0\n",
        "            if available(aux,ps,ws,c):\n",
        "                res_neighborhood.append(aux)\n",
        "\n",
        "    return res_neighborhood\n",
        "\n"
      ],
      "execution_count": 5,
      "outputs": []
    },
    {
      "cell_type": "markdown",
      "metadata": {
        "id": "XO_QgHHGTSIM"
      },
      "source": [
        "# Ejecucion"
      ]
    },
    {
      "cell_type": "code",
      "metadata": {
        "colab": {
          "base_uri": "https://localhost:8080/"
        },
        "id": "qfABRYa7Q61_",
        "outputId": "6bd069c8-d311-4dee-dbf0-288d8454b6c8"
      },
      "source": [
        "\n",
        "if __name__ == '__main__':\n",
        "    T0,Tf = [float(i) for i in input().split()]\n",
        "    n=int(input())\n",
        "    c=float(input())\n",
        "\n",
        "    ps=[]\n",
        "    ws=[]\n",
        "\n",
        "    for i in range(n):\n",
        "        p,w=[float(i) for i in input().split()]\n",
        "        ps.append(p)\n",
        "        ws.append(w)\n",
        "\n",
        "\n",
        "    w_inicial,p_inicial,i_sol_in=sol_ini(n,c,ps,ws)\n",
        "\n",
        "    #print('Solucion inicial',w_inicial,p_inicial,i_sol_in,sum(p_inicial))\n",
        "\n",
        "\n",
        "    T=[T0]\n",
        "    X=[i_sol_in]\n",
        "    \n",
        "    x_best=i_sol_in\n",
        "    f_best=sum(p_inicial)\n",
        "\n",
        "\n",
        "    t=0\n",
        "\n",
        "    while T[t] >= Tf:\n",
        "        #Seleccionamos aleatoriamente un vecino entre el vecindario\n",
        "        y=random.choice(neighborhood(X[t],ps,ws,c))\n",
        "\n",
        "        f_aux=sum(bin_to_element(y,ps,ws)[0])\n",
        "\n",
        "        if f_aux > f_best:\n",
        "            x_best=y\n",
        "            f_best=f_aux\n",
        "\n",
        "\n",
        "        comp = math.e**( (-1*(f_aux) - sum(bin_to_element(X[t],ps,ws)[0])) /T[t]  )\n",
        "\n",
        "\n",
        "        if (f_aux <= sum(bin_to_element(X[t],ps,ws)[0])) or (random.uniform(0,1)<comp):\n",
        "            X.append(y)\n",
        "\n",
        "        else:\n",
        "            X.append(X[t])\n",
        "\n",
        "        T.append(0.99*T[t])\n",
        "        t+=1\n",
        "\n",
        "\n",
        "    indices=[i for i in range(len(x_best)) if x_best[i]==1]\n",
        "\n",
        "    #print(bin_to_element(x_best,ps,ws),x_best,f_best,indices)\n",
        "\n",
        "    print(indices,x_best)\n",
        "    print(f_best)\n",
        "    print(sum(bin_to_element(x_best,ps,ws)[1]))\n"
      ],
      "execution_count": 10,
      "outputs": [
        {
          "output_type": "stream",
          "text": [
            "1000 0.1\n",
            "5\n",
            "15\n",
            "5 2\n",
            "14 3\n",
            "7 7\n",
            "2 5\n",
            "23 10\n",
            "[0, 1, 4] [1, 1, 0, 0, 1]\n",
            "42.0\n",
            "15.0\n"
          ],
          "name": "stdout"
        }
      ]
    },
    {
      "cell_type": "code",
      "metadata": {
        "id": "NYwz71qkR45t"
      },
      "source": [
        ""
      ],
      "execution_count": null,
      "outputs": []
    }
  ]
}