{
  "nbformat": 4,
  "nbformat_minor": 0,
  "metadata": {
    "colab": {
      "name": "PE.ipynb",
      "provenance": []
    },
    "kernelspec": {
      "name": "python3",
      "display_name": "Python 3"
    },
    "language_info": {
      "name": "python"
    }
  },
  "cells": [
    {
      "cell_type": "code",
      "metadata": {
        "id": "pV7cVlb0j6U9"
      },
      "source": [
        "import math\n",
        "import numpy as np"
      ],
      "execution_count": 2,
      "outputs": []
    },
    {
      "cell_type": "code",
      "metadata": {
        "id": "W-QAz49vkNg0"
      },
      "source": [
        "def f(x,n):\n",
        "    s1=sum([i**2 for i in x])\n",
        "\n",
        "    s2=sum([math.cos(2*math.pi*i) for i in x])\n",
        "\n",
        "    return (-20*math.exp(-0.2*math.sqrt( (1/n)*s1 ))) - (math.exp( (1/n)*s2 )) + (20) + (math.e)\n",
        "\n",
        "def fitness(x,n):\n",
        "    return -f(x,n)"
      ],
      "execution_count": 38,
      "outputs": []
    },
    {
      "cell_type": "code",
      "metadata": {
        "id": "AblpOtRykTjO"
      },
      "source": [
        "def sol_init(mu,n):\n",
        "\n",
        "    population=[]\n",
        "\n",
        "    for i in range(mu):\n",
        "        var = np.random.uniform(-30,30,n)\n",
        "        fact = np.random.uniform(0,1,n)\n",
        "\n",
        "\n",
        "        child = [var,fact,fitness(var,n)]\n",
        "\n",
        "        population.append(child)\n",
        "\n",
        "\n",
        "    return population"
      ],
      "execution_count": 4,
      "outputs": []
    },
    {
      "cell_type": "code",
      "metadata": {
        "id": "-hTt3gAAkVy8"
      },
      "source": [
        "def mutation(var,fact,n,alpha,epsilon):\n",
        "    \n",
        "    mutation_sigma = fact * (1+(alpha*np.random.normal(0,1,n)))\n",
        "\n",
        "    mutation_sigma[mutation_sigma < epsilon] = epsilon\n",
        "\n",
        "    mutation_x = var + (mutation_sigma*np.random.normal(0,1,n))\n",
        "\n",
        "    mutation_x[mutation_x < -30] = -30\n",
        "    mutation_x[mutation_x > 30] = 30\n",
        "\n",
        "    return [mutation_x,mutation_sigma,fitness(mutation_x,n)]\n"
      ],
      "execution_count": 5,
      "outputs": []
    },
    {
      "cell_type": "markdown",
      "metadata": {
        "id": "VDhGMAQkkaVd"
      },
      "source": [
        "# Run"
      ]
    },
    {
      "cell_type": "markdown",
      "metadata": {
        "id": "rnmE4BmBkclq"
      },
      "source": [
        "## Manual"
      ]
    },
    {
      "cell_type": "code",
      "metadata": {
        "colab": {
          "base_uri": "https://localhost:8080/"
        },
        "id": "YY-9JdktkYXJ",
        "outputId": "a4cc324b-9f01-472b-d2f8-a60397f91191"
      },
      "source": [
        "n=int(input())\n",
        "mu,G = [int(i) for i in input().split()]\n",
        "alpha,epsilon = [float(i) for i in input().split()]\n"
      ],
      "execution_count": 6,
      "outputs": [
        {
          "output_type": "stream",
          "text": [
            "2\n",
            "100 200\n",
            "2.0 0.0001\n"
          ],
          "name": "stdout"
        }
      ]
    },
    {
      "cell_type": "code",
      "metadata": {
        "colab": {
          "base_uri": "https://localhost:8080/"
        },
        "id": "syDhKFCikka5",
        "outputId": "ecc731d4-9b04-41b4-df59-77e38fed7c7e"
      },
      "source": [
        "def pe(n,mu,G,alpha,epsilon):\n",
        "\n",
        "  parents = sol_init(mu,n)\n",
        "\n",
        "  for i in range(G):\n",
        "      new_gen = parents.copy()\n",
        "\n",
        "      for p in parents:\n",
        "          child = mutation(p[0],p[1],n,alpha,epsilon)\n",
        "\n",
        "          new_gen.append(child)\n",
        "\n",
        "      new_gen = sorted(new_gen, key=lambda child: child[-1])\n",
        "\n",
        "      new_gen = new_gen[mu:]\n",
        "\n",
        "      parents = new_gen.copy()\n",
        "\n",
        "  print(parents[-1])\n",
        "\n",
        "  print('f(x) =',round(parents[-1][-1],3))\n",
        "\n",
        "pe(n,mu,G,alpha,epsilon)"
      ],
      "execution_count": 59,
      "outputs": [
        {
          "output_type": "stream",
          "text": [
            "[array([-8.04717150e-07,  1.02034653e-06]), array([0.00030787, 0.0001    ]), -3.6755604253535523e-06]\n",
            "f(x) = -0.0\n"
          ],
          "name": "stdout"
        }
      ]
    },
    {
      "cell_type": "markdown",
      "metadata": {
        "id": "QPrS4V3fuDv6"
      },
      "source": [
        "### N = 5"
      ]
    },
    {
      "cell_type": "code",
      "metadata": {
        "colab": {
          "base_uri": "https://localhost:8080/"
        },
        "id": "lwUR1-wNuKeq",
        "outputId": "10094e30-d71d-4dbf-89d3-a47149d7958a"
      },
      "source": [
        "pe(5,mu,G,alpha,epsilon)"
      ],
      "execution_count": 60,
      "outputs": [
        {
          "output_type": "stream",
          "text": [
            "[array([ 9.45389923e-01,  2.07429910e-05, -2.85985766e-05,  9.45438090e-01,\n",
            "        2.25638403e-05]), array([0.0001, 0.0001, 0.0001, 0.0001, 0.0001]), -2.3168488236700964]\n",
            "f(x) = -2.317\n"
          ],
          "name": "stdout"
        }
      ]
    },
    {
      "cell_type": "markdown",
      "metadata": {
        "id": "zZq3jPD5uM7b"
      },
      "source": [
        "### N = 10"
      ]
    },
    {
      "cell_type": "code",
      "metadata": {
        "colab": {
          "base_uri": "https://localhost:8080/"
        },
        "id": "VKFFSBJquPLk",
        "outputId": "9766856f-2485-476d-84c6-acd86e943faf"
      },
      "source": [
        "pe(10,mu,G,alpha,epsilon)"
      ],
      "execution_count": 61,
      "outputs": [
        {
          "output_type": "stream",
          "text": [
            "[array([-1.11266771,  1.08263266, -0.07396654, -0.99649717,  0.21802446,\n",
            "        0.01018779,  0.02673016, -0.03010752,  0.97326257, -2.93660083]), array([0.00394576, 0.00035901, 0.0001    , 0.0001    , 0.00315042,\n",
            "       0.0001    , 0.0001    , 0.0006289 , 0.0001    , 0.00087107]), -4.438417733255271]\n",
            "f(x) = -4.438\n"
          ],
          "name": "stdout"
        }
      ]
    },
    {
      "cell_type": "markdown",
      "metadata": {
        "id": "wzR2PuZluRRj"
      },
      "source": [
        "### N = 20"
      ]
    },
    {
      "cell_type": "code",
      "metadata": {
        "colab": {
          "base_uri": "https://localhost:8080/"
        },
        "id": "Az3Ijo79uTaw",
        "outputId": "3f068b98-175d-4b75-e76d-13a57a564625"
      },
      "source": [
        "pe(20,mu,G,alpha,epsilon)"
      ],
      "execution_count": 62,
      "outputs": [
        {
          "output_type": "stream",
          "text": [
            "[array([-17.83635671,   2.0124072 ,   1.95739133,  -0.97610117,\n",
            "        -2.0204408 ,  -1.03953656,  -2.06515977, -11.03195967,\n",
            "         3.95151158,  -2.92451225, -16.97526628,   5.99109152,\n",
            "         5.07383244,  14.95273272,   4.0701054 ,   2.11223164,\n",
            "        -0.03039654,  -2.01221431,  -3.04388546,  -2.0581739 ]), array([0.01625034, 0.0001    , 0.00053186, 0.00012584, 0.0001    ,\n",
            "       0.00032794, 0.0001    , 0.0001    , 0.0001    , 0.0001    ,\n",
            "       0.00014693, 0.00010859, 0.00191884, 0.0001    , 0.00034745,\n",
            "       0.00015229, 0.0001    , 0.0001    , 0.0003533 , 0.00140827]), -15.634818858030377]\n",
            "f(x) = -15.635\n"
          ],
          "name": "stdout"
        }
      ]
    },
    {
      "cell_type": "markdown",
      "metadata": {
        "id": "OLR57x4Ll5NR"
      },
      "source": [
        "## File"
      ]
    },
    {
      "cell_type": "code",
      "metadata": {
        "colab": {
          "base_uri": "https://localhost:8080/"
        },
        "id": "OtKzcGfBkp-O",
        "outputId": "905a9188-5f49-4f60-f9f5-aaa9230a716e"
      },
      "source": [
        "M = int(input('Numero de ejecuciones: '))\n",
        "file_name=input('file name: ')\n",
        "\n",
        "file = open(file_name,'r') \n",
        "#'/content/input.txt'\n",
        "lista=[i for i in file.read().split('\\n')]\n",
        "    \n",
        "while '' in lista:\n",
        "  lista.remove('')\n",
        "\n",
        "#lista\n",
        "n=int(lista[0])\n",
        "mu,G=[int(i) for i in lista[1].split()]\n",
        "alpha,epsilon=[float(i) for i in lista[2].split()]\n",
        "\n",
        "\n",
        "#print(n,mu,G,alpha,epsilon)"
      ],
      "execution_count": 17,
      "outputs": [
        {
          "output_type": "stream",
          "text": [
            "Numero de ejecuciones: 1\n",
            "file name: /content/input.txt\n"
          ],
          "name": "stdout"
        }
      ]
    },
    {
      "cell_type": "code",
      "metadata": {
        "colab": {
          "base_uri": "https://localhost:8080/"
        },
        "id": "qjn9onCsmy19",
        "outputId": "def59231-e0d8-492b-ecbe-776f898e01ac"
      },
      "source": [
        "sols=[]\n",
        "for m in range(10):\n",
        "  parents = sol_init(mu,n)\n",
        "  for i in range(G):\n",
        "      new_gen = parents.copy()\n",
        "\n",
        "      for p in parents:\n",
        "          child = mutation(p[0],p[1],n,alpha,epsilon)\n",
        "\n",
        "          new_gen.append(child)\n",
        "\n",
        "      new_gen = sorted(new_gen, key=lambda child: child[-1])\n",
        "\n",
        "      new_gen = new_gen[mu:]\n",
        "\n",
        "      parents = new_gen.copy()\n",
        "\n",
        "  sols.append(parents[-1])\n",
        "\n",
        "print(sols)\n"
      ],
      "execution_count": 53,
      "outputs": [
        {
          "output_type": "stream",
          "text": [
            "[[array([ 7.59953386e-07, -1.98655440e-06]), array([0.00039744, 0.0001    ]), -6.016051010693246e-06], [array([2.95955041e-06, 1.67653152e-06]), array([0.0001, 0.0001]), -9.620992689196584e-06], [array([-1.67911531e-07, -4.05330064e-07]), array([0.00046872, 0.0001    ]), -1.2409297558413357e-06], [array([-1.06440251e-06, -2.71404300e-07]), array([0.0001, 0.0001]), -3.1069444301756732e-06], [array([-1.01898764e-06,  1.63383141e-06]), array([0.00010202, 0.0001    ]), -5.446375173523421e-06], [array([-1.23513549e-06, -8.21337491e-07]), array([0.00062014, 0.0001    ]), -4.195441704712977e-06], [array([ 1.07244668e-06, -3.55110674e-06]), array([0.0001    , 0.00010387]), -1.0492459058486503e-05], [array([-6.99602287e-07, -9.52166392e-01]), array([0.0001, 0.0001]), -2.5799275570439097], [array([9.52168875e-01, 8.31923304e-07]), array([0.0001, 0.0001]), -2.579927557177687], [array([ 3.28297193e-07, -9.66736951e-07]), array([0.0001, 0.0001]), -2.8877387951986577e-06]]\n"
          ],
          "name": "stdout"
        }
      ]
    },
    {
      "cell_type": "code",
      "metadata": {
        "id": "vD6JVc7rn_xa"
      },
      "source": [
        "sols = sorted(sols,key=lambda sol: sol[-1])\n",
        "aux=[x[-1] for x in sols]"
      ],
      "execution_count": 54,
      "outputs": []
    },
    {
      "cell_type": "code",
      "metadata": {
        "colab": {
          "base_uri": "https://localhost:8080/"
        },
        "id": "pKBNP7EgoIhA",
        "outputId": "43a4607c-b6a3-43ca-c4ab-817a23e96579"
      },
      "source": [
        "print('Mejor solucion:',sols[0])"
      ],
      "execution_count": 55,
      "outputs": [
        {
          "output_type": "stream",
          "text": [
            "Mejor solucion: [array([9.52168875e-01, 8.31923304e-07]), array([0.0001, 0.0001]), -2.579927557177687]\n"
          ],
          "name": "stdout"
        }
      ]
    },
    {
      "cell_type": "code",
      "metadata": {
        "colab": {
          "base_uri": "https://localhost:8080/"
        },
        "id": "mzn2Hihrpeq9",
        "outputId": "3fa509f0-4025-4685-fc71-ebc636b67f83"
      },
      "source": [
        "print('Peor solucion:',sols[-1])"
      ],
      "execution_count": 56,
      "outputs": [
        {
          "output_type": "stream",
          "text": [
            "Peor solucion: [array([-1.67911531e-07, -4.05330064e-07]), array([0.00046872, 0.0001    ]), -1.2409297558413357e-06]\n"
          ],
          "name": "stdout"
        }
      ]
    },
    {
      "cell_type": "code",
      "metadata": {
        "colab": {
          "base_uri": "https://localhost:8080/"
        },
        "id": "wUE2r7bHrfUg",
        "outputId": "34fa98a4-70b0-410f-be0d-4006cf6bab4e"
      },
      "source": [
        "medna = len(sols)//2\n",
        "print('Mediana:',sols[medna])"
      ],
      "execution_count": 57,
      "outputs": [
        {
          "output_type": "stream",
          "text": [
            "Mediana: [array([-1.01898764e-06,  1.63383141e-06]), array([0.00010202, 0.0001    ]), -5.446375173523421e-06]\n"
          ],
          "name": "stdout"
        }
      ]
    },
    {
      "cell_type": "code",
      "metadata": {
        "colab": {
          "base_uri": "https://localhost:8080/"
        },
        "id": "oQsOGxLIsLOI",
        "outputId": "1320c905-e0ec-426c-a830-310c35eee080"
      },
      "source": [
        "print('Media:',np.mean(aux))\n",
        "print('Desviacion estandar',np.std(aux))"
      ],
      "execution_count": 58,
      "outputs": [
        {
          "output_type": "stream",
          "text": [
            "Media: -0.5159898121154214\n",
            "Desviacion estandar 1.0319688725012954\n"
          ],
          "name": "stdout"
        }
      ]
    },
    {
      "cell_type": "code",
      "metadata": {
        "id": "nHvtROq1sxMf"
      },
      "source": [
        ""
      ],
      "execution_count": null,
      "outputs": []
    }
  ]
}