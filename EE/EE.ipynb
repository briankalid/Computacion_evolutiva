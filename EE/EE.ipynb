{
  "nbformat": 4,
  "nbformat_minor": 0,
  "metadata": {
    "colab": {
      "name": "EE.ipynb",
      "provenance": [],
      "collapsed_sections": []
    },
    "kernelspec": {
      "name": "python3",
      "display_name": "Python 3"
    },
    "language_info": {
      "name": "python"
    }
  },
  "cells": [
    {
      "cell_type": "code",
      "metadata": {
        "id": "wsmgbUICfDPN"
      },
      "source": [
        "import math\n",
        "import numpy as np"
      ],
      "execution_count": 1,
      "outputs": []
    },
    {
      "cell_type": "code",
      "metadata": {
        "id": "p2bSnMAEdU3b"
      },
      "source": [
        "def f(x):\n",
        "\n",
        "  n = len(x)\n",
        "  left = -20*math.exp(-0.2 * math.sqrt((1/n) * sum([x_i*x_i for x_i in x])))\n",
        "  right = math.exp((1/n) * sum([math.cos(2*math.pi*x_i) for x_i in x]))\n",
        "  \n",
        "  return (left - right + 20 + math.e)\n"
      ],
      "execution_count": 18,
      "outputs": []
    },
    {
      "cell_type": "code",
      "metadata": {
        "id": "mymIBqwIlA40"
      },
      "source": [
        "def initial_solution(n,mu):\n",
        "  childs = []\n",
        "\n",
        "  for i in range(int(mu)):\n",
        "    child = list(np.random.uniform(-30,30,int(n)))\n",
        "    child.extend(np.random.uniform(0,1,1))\n",
        "    childs.append(child)\n",
        "  \n",
        "  return childs\n"
      ],
      "execution_count": 3,
      "outputs": []
    },
    {
      "cell_type": "code",
      "metadata": {
        "id": "wofOccW3ubyn"
      },
      "source": [
        "def mutation(child,tau,eps):\n",
        "  sigma = child[0][-1]\n",
        "\n",
        "  new_sigma = sigma * (math.e**(tau*np.random.normal(0,1,1)))[0]\n",
        "\n",
        "  if new_sigma < eps:\n",
        "    new_sigma = eps\n",
        "\n",
        "  new_child = [var+(new_sigma*np.random.normal(0,1,1))[0] for var in child[0][:-1]]\n",
        "  \n",
        "  new_child = [30 if ch > 30 else ch for ch in new_child]\n",
        "  new_child = [-30 if ch < -30 else ch for ch in new_child]\n",
        "  \n",
        "  new_child.extend([new_sigma])\n",
        "\n",
        "  new_child = [new_child]\n",
        "  new_child.append(f(new_child[0]))\n",
        "\n",
        "  return(new_child)\n"
      ],
      "execution_count": 4,
      "outputs": []
    },
    {
      "cell_type": "code",
      "metadata": {
        "colab": {
          "base_uri": "https://localhost:8080/"
        },
        "id": "aVCJjL13ilsu",
        "outputId": "ea7c79ee-5980-482a-bbd8-b5b9a81da92b"
      },
      "source": [
        "# if __name__ == \"__main__\":\n",
        "def EE1_1(k,c,G,eps,n):\n",
        "  # k,c,G,eps,n = [float(i) for i in input().split()]\n",
        "  # k,c,G,eps,n = [100,0.85,1000,0.01,5]\n",
        "  mu = 1\n",
        "  tau = 1/math.sqrt(n)\n",
        "  poblacion = initial_solution(n,mu)\n",
        "  fs = map(f, poblacion)\n",
        "\n",
        "  poblacion = [list(z) for z in zip(poblacion,fs)]\n",
        "\n",
        "  success = 0\n",
        "  for i in range(int(G)):\n",
        "    aux_poblacion=[x for x in map(mutation,poblacion,[tau]*mu,[eps]*mu)]\n",
        "\n",
        "    if aux_poblacion[-1] < poblacion[-1]:\n",
        "      poblacion = aux_poblacion\n",
        "      success += 1 \n",
        "    \n",
        "    if (i+1)%k == 0:\n",
        "      ps = success/k\n",
        "      if ps > 1/5:\n",
        "        poblacion[0][-1] /= c\n",
        "      if ps < 1/5:\n",
        "        poblacion[0][-1] *= c\n",
        "      success = 0\n",
        "  return poblacion\n",
        "\n",
        "aux = EE1_1(100,0.85,1000,0.01,5)\n",
        "print(f\"5 Variables de decision \\n X = {aux[0][0]} \\n f(x) = {aux[0][1]} \\n\")\n",
        "\n",
        "aux = EE1_1(100,0.85,1000,0.01,10)\n",
        "print(f\"10 Variables de decision \\n X = {aux[0][0]} \\n f(x) = {aux[0][1]} \\n\")\n",
        "\n",
        "aux = EE1_1(100,0.85,1000,0.01,20)\n",
        "print(f\"20 Variables de decision \\n X = {aux[0][0]} \\n f(x) = {aux[0][1]} \\n\")"
      ],
      "execution_count": 100,
      "outputs": [
        {
          "output_type": "stream",
          "text": [
            "5 Variables de decision \n",
            " X = [-30, -30, -30, -30, -30, 1.3484636464265283] \n",
            " f(x) = 17.4639107674013 \n",
            "\n",
            "10 Variables de decision \n",
            " X = [-30, -30, -30, -30, -30, -30, -30, 30, -23.760158108657798, 7.881047861207373, 16.54223987589687] \n",
            " f(x) = 9.136900897403436 \n",
            "\n",
            "20 Variables de decision \n",
            " X = [-30, -30, -30, -30, -30, -30, -3.6433133072573187, 10.45465059591114, -24.096815282051534, -9.424618347117072, -6.708943885802783, 14.185161392667492, -16.850611944250947, -30, 12.582621270081965, -17.745877719314837, -14.272452488786781, -30, 30, -24.359765896255972, 7.5376659712821175] \n",
            " f(x) = 11.06964564476127 \n",
            "\n"
          ],
          "name": "stdout"
        }
      ]
    },
    {
      "cell_type": "markdown",
      "metadata": {
        "id": "mttRYaxh-0YA"
      },
      "source": [
        "# Segundo punto"
      ]
    },
    {
      "cell_type": "code",
      "metadata": {
        "id": "HjyKYsC9_wIi"
      },
      "source": [
        "def recombinacion(*args):\n",
        "  n = len(args[0])\n",
        "  \n",
        "  new_childs = []\n",
        "  for i in range(int(args[-1])):\n",
        "    rand = np.random.uniform(0,1,n)\n",
        "\n",
        "    new_childs.append([args[0][i] if rand[i]<0.5 else args[1][i] for i in range(n)])\n",
        "\n",
        "  return new_childs"
      ],
      "execution_count": 73,
      "outputs": []
    },
    {
      "cell_type": "code",
      "metadata": {
        "colab": {
          "base_uri": "https://localhost:8080/"
        },
        "id": "uzSCs6Rywnji",
        "outputId": "b8a53c6c-bf08-4232-b2d3-b0a84458751c"
      },
      "source": [
        "# if __name__ == \"__main__\":\n",
        "def custom(G,eps,n,mu,lamb):\n",
        "  #lamb: Mejores n hijos\n",
        "  # G,eps,n,mu,lamb = [float(i) for i in input().split()]\n",
        "  # G,eps,n,mu,lamb = [1000,0.01,10,15,8]\n",
        "  tau = 1/math.sqrt(n)\n",
        "  poblacion = initial_solution(n,int(lamb))\n",
        "  fs = map(f, poblacion)\n",
        "\n",
        "  poblacion = [list(z) for z in zip(poblacion,fs)]\n",
        "\n",
        "  success = 0\n",
        "  for i in range(int(G)):\n",
        "\n",
        "    parents = np.random.choice(list(range(int(lamb))),size=2)\n",
        "\n",
        "    childs = recombinacion(poblacion[parents[0]][0], poblacion[parents[1]][0],mu)\n",
        "\n",
        "    fs = map(f, childs)\n",
        "    childs = [list(z) for z in zip(childs,fs)]\n",
        "\n",
        "    mut_poblacion=[x for x in map(mutation,childs,[tau]*int(mu),[eps]*int(mu))]\n",
        "\n",
        "    poblacion = sorted(mut_poblacion, key=lambda ch: ch[-1])[:int(lamb)]\n",
        "\n",
        "  return poblacion[0]\n",
        "\n",
        "\n",
        "aux = custom(1000,0.01,5,10,8)\n",
        "print(f\"5 Variables de decision \\n X = {aux[0]} \\n f(x) = {aux[1]}\")\n",
        "\n",
        "aux = custom(1000,0.01,10,9,8)\n",
        "print(f\"10 Variables de decision \\n X = {aux[0]} \\n f(x) = {aux[1]}\")\n",
        "\n",
        "aux = custom(1000,0.01,20,19,8)\n",
        "print(f\"20 Variables de decision \\n X = {aux[0]} \\n f(x) = {aux[1]}\")"
      ],
      "execution_count": 111,
      "outputs": [
        {
          "output_type": "stream",
          "text": [
            "5 Variables de decision \n",
            " X = [26.000944791667646, 1.021272213922315, -4.971915585766611, -21.040226239762795, 1.9677381635582551, 0.026531560955939133] \n",
            " f(x) = 18.78361849175733\n",
            "10 Variables de decision \n",
            " X = [30, -30, 30, 30, 30, 30, -30, 30, 30, 30, 20419720.965353176] \n",
            " f(x) = 20.005826084939756\n",
            "20 Variables de decision \n",
            " X = [1.9357600591230677, 0.03034868281007955, -0.005066571068911365, 0.01467398980947058, 0.012896186562031182, -0.9927819735121597, -0.05984492366387464, 0.000244231567369247, -1.9096087469707845, -0.008883170520981693, -0.007828046115876857, -0.018021130621276332, -0.9668446899419143, -0.9676531673043725, -0.9462324597964246, 0.9772122648804664, -0.987807371395986, -0.9403423565096906, -0.010463805243129176, -0.9375510542185491, 0.017552148747530943] \n",
            " f(x) = 3.1733237741136873\n"
          ],
          "name": "stdout"
        }
      ]
    },
    {
      "cell_type": "markdown",
      "metadata": {
        "id": "r_ENtXpmXawi"
      },
      "source": [
        "# Tercer punto"
      ]
    },
    {
      "cell_type": "code",
      "metadata": {
        "colab": {
          "base_uri": "https://localhost:8080/"
        },
        "id": "APijgBqo_I-B",
        "outputId": "868fce83-089c-4dc6-e26b-2f862e0f59d3"
      },
      "source": [
        "M = int(input())\n",
        "\n",
        "\n",
        "outputs_complete = []\n",
        "outputs_xs = []\n",
        "outputs_fx = []\n",
        "\n",
        "for i in range(M):\n",
        "  aux = custom(1000,0.01,20,19,8)\n",
        "  outputs_complete.append(aux)\n",
        "  outputs_xs.append(aux[0])\n",
        "  outputs_fx.append(aux[1])\n",
        "\n",
        "\n",
        "best = sorted(outputs_complete, key=lambda res:res[1])\n",
        "worst = best[-1]\n",
        "median = best[len(best)//2]\n",
        "mean = sum([x[1] for x in best]) / len(best)\n",
        "\n",
        "print(f\"Mejor resultado despues de {M} iteraciones {best}\")\n",
        "\n",
        "print(f\"Peor resultado despues de {M} iteraciones {worst}\")\n",
        "\n",
        "print(f\"Mediana de resultados despues de {M} iteraciones {median}\")\n",
        "\n",
        "print(f\"Media de resultados despues de {M} iteraciones {mean}\")\n",
        "\n",
        "\n",
        "  # print(f\"20 Variables de decision \\n X = {aux[0]} \\n f(x) = {aux[1]}\")\n",
        "\n"
      ],
      "execution_count": 115,
      "outputs": [
        {
          "output_type": "stream",
          "text": [
            "2\n",
            "Mejor resultado despues de 2 iteraciones [[[-21.009313646337795, 1.0254683556580022, -10.004237877339351, -1.0015120738898813, 17.005561362669205, -9.981464102037425, 4.030063586613249, 1.9699800949250355, -2.997618996254147, -2.998567446334371, 13.968665741476896, -7.993113424569825, -21.01849463111301, -10.98631281551013, 2.0081841412271335, -9.014275420198707, -1.0003166103255245, 16.01751965509142, -24.02427957998891, 12.992305937122273, 0.010928202047404401], 18.093063337115435], [[-20.008507932684758, -26.024828758935826, 6.981705695641751, -18.029774271360303, 2.0185309887285316, 19.00899824196409, -4.975337247798907, -11.016241663599358, -24.996336390377788, 25.010203980661466, 19.9880001549018, -25.028429990083833, -13.992178022854365, 17.030527396460784, -17.031719732846963, 27.000644029244413, -29.002934006047195, -18.994567805112393, 14.997815713198369, -2.0054198315977056, 0.011032421466269288], 19.520424046581233]]\n",
            "Peor resultado despues de 2 iteraciones [[-20.008507932684758, -26.024828758935826, 6.981705695641751, -18.029774271360303, 2.0185309887285316, 19.00899824196409, -4.975337247798907, -11.016241663599358, -24.996336390377788, 25.010203980661466, 19.9880001549018, -25.028429990083833, -13.992178022854365, 17.030527396460784, -17.031719732846963, 27.000644029244413, -29.002934006047195, -18.994567805112393, 14.997815713198369, -2.0054198315977056, 0.011032421466269288], 19.520424046581233]\n",
            "Mediana de resultados despues de 2 iteraciones [[-20.008507932684758, -26.024828758935826, 6.981705695641751, -18.029774271360303, 2.0185309887285316, 19.00899824196409, -4.975337247798907, -11.016241663599358, -24.996336390377788, 25.010203980661466, 19.9880001549018, -25.028429990083833, -13.992178022854365, 17.030527396460784, -17.031719732846963, 27.000644029244413, -29.002934006047195, -18.994567805112393, 14.997815713198369, -2.0054198315977056, 0.011032421466269288], 19.520424046581233]\n",
            "Media de resultados despues de 2 iteraciones 18.806743691848332\n"
          ],
          "name": "stdout"
        }
      ]
    },
    {
      "cell_type": "code",
      "metadata": {
        "id": "4kagtLP0Y0LM"
      },
      "source": [
        ""
      ],
      "execution_count": null,
      "outputs": []
    }
  ]
}