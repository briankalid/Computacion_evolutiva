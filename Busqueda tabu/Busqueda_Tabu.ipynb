{
  "nbformat": 4,
  "nbformat_minor": 0,
  "metadata": {
    "colab": {
      "name": "Busqueda Tabu.ipynb",
      "provenance": [],
      "toc_visible": true
    },
    "kernelspec": {
      "name": "python3",
      "display_name": "Python 3"
    }
  },
  "cells": [
    {
      "cell_type": "code",
      "metadata": {
        "id": "h7gS8nO-ASks"
      },
      "source": [
        "import random\n",
        "import numpy as np"
      ],
      "execution_count": 2,
      "outputs": []
    },
    {
      "cell_type": "markdown",
      "metadata": {
        "id": "B_kPQWTOAK24"
      },
      "source": [
        "# Funciones"
      ]
    },
    {
      "cell_type": "markdown",
      "metadata": {
        "id": "huIGTGFOAZO5"
      },
      "source": [
        "## Para obtener la solucion inicial con un algoritmo voraz"
      ]
    },
    {
      "cell_type": "code",
      "metadata": {
        "id": "LV6rQiBMAYVw"
      },
      "source": [
        "#Regresa el paso con menor costo\n",
        "def min_st(tar, lim):\n",
        "    do = float('inf')\n",
        "    do_i = float('inf')\n",
        "\n",
        "    for key, value in tar.items():\n",
        "        if value <= do:\n",
        "            if key not in lim:\n",
        "                do = value\n",
        "                do_i = key\n",
        "\n",
        "    return [do_i, do]\n",
        "\n",
        "\n",
        "\n",
        "# Recorre de ciudad en ciudad buscando el paso con menor costo hasta recorrer todas las ciudades\n",
        "\n",
        "def sol_ini(n, dic):\n",
        "    res = []\n",
        "    c_actual = '0'\n",
        "    lim = [c_actual]\n",
        "\n",
        "    for i in range(n-1):\n",
        "\n",
        "        aux = min_st(dic[c_actual], lim)\n",
        "\n",
        "        res.append(aux)\n",
        "        lim.append(aux[0])\n",
        "        c_actual = aux[0]\n",
        "\n",
        " \n",
        "    res.append([\"0\", dic[c_actual]['0']])\n",
        "\n",
        "    sum_res = 0\n",
        "\n",
        "    for i, e in res:\n",
        "        sum_res += e\n",
        "\n",
        "\n",
        "    return(lim,sum_res) \n"
      ],
      "execution_count": 3,
      "outputs": []
    },
    {
      "cell_type": "markdown",
      "metadata": {
        "id": "IwTUS0fRBj-i"
      },
      "source": [
        "## Para generar el vecindario"
      ]
    },
    {
      "cell_type": "code",
      "metadata": {
        "id": "_zK3biHpBm_b"
      },
      "source": [
        "def gen_neighborhood(sol,l_tabu):\n",
        "    neighborhood=[]\n",
        "\n",
        "    sel_city=random.randint(1,9)\n",
        "\n",
        "\n",
        "    #revisamos que la ciudad no se encuentre en la lista tabu\n",
        "    while str(sel_city) in l_tabu:\n",
        "        sel_city=random.randint(1,9)\n",
        "\n",
        "\n",
        "    #swaps\n",
        "    for i in range(len(sol)):\n",
        "        if (not i==sel_city) and (i!=0) :\n",
        "\n",
        "\n",
        "            aux=sol[:]\n",
        "\n",
        "            aux[sel_city],aux[i]=aux[i],aux[sel_city]\n",
        "\n",
        "            neighborhood.append(aux)\n",
        "        \n",
        "\n",
        "    return neighborhood,str(sel_city)\n"
      ],
      "execution_count": 4,
      "outputs": []
    },
    {
      "cell_type": "markdown",
      "metadata": {
        "id": "816WicJ8Cug6"
      },
      "source": [
        "## Para la mejor solucion dado un vecindario"
      ]
    },
    {
      "cell_type": "code",
      "metadata": {
        "id": "bEQ9YiN5CxdY"
      },
      "source": [
        "def better_cost(dic,neighborhood):\n",
        "\n",
        "    better_way=[]\n",
        "    better_cost=float('inf')\n",
        "\n",
        "    #Calcula el peso de cada vecino\n",
        "    for i, neigh in enumerate(neighborhood):\n",
        "        city_actual='0'\n",
        "\n",
        "\n",
        "        suma=0\n",
        "        \n",
        "        #Suma el valor de cada paso tomado en este vecino\n",
        "        for j,city in enumerate(neigh):\n",
        "            if j>0:     \n",
        "                suma+=dic[city_actual][city]\n",
        "                city_actual=city\n",
        "        suma+=dic[city_actual]['0']\n",
        "\n",
        "\n",
        "        if suma<better_cost:\n",
        "            better_way=neigh\n",
        "            better_cost=suma\n",
        "\n",
        "    \n",
        "    return better_way,better_cost"
      ],
      "execution_count": 5,
      "outputs": []
    },
    {
      "cell_type": "markdown",
      "metadata": {
        "id": "ojH4y4t_DEhH"
      },
      "source": [
        "#Parte 1"
      ]
    },
    {
      "cell_type": "markdown",
      "metadata": {
        "id": "UqTBKUuLDJZK"
      },
      "source": [
        "## Input"
      ]
    },
    {
      "cell_type": "code",
      "metadata": {
        "id": "17uq7Iy1DGMb"
      },
      "source": [
        "#Crea diccionario de diccionarios con el costo de cada paso entre ciudades\n",
        "def input_man(n):\n",
        "\n",
        "    city_bri = {}\n",
        "\n",
        "\n",
        "    for i in range(n-1):\n",
        "\n",
        "        aux = [int(i) for i in input().split()]\n",
        "\n",
        "        if str(i) not in city_bri:\n",
        "            city_bri[str(i)] = {}\n",
        "\n",
        "        for j, w in enumerate(aux):\n",
        "            city_bri[str(i)][str(i+j+1)] = w\n",
        "\n",
        "            if str(i+j+1) not in city_bri:\n",
        "                city_bri[str(i+j+1)] = {}\n",
        "\n",
        "            city_bri[str(i+j+1)][str(i)] = w\n",
        "\n",
        "    return city_bri\n"
      ],
      "execution_count": 6,
      "outputs": []
    },
    {
      "cell_type": "markdown",
      "metadata": {
        "id": "BjqvmcxLDYJC"
      },
      "source": [
        "## Ejecucion parte 1"
      ]
    },
    {
      "cell_type": "code",
      "metadata": {
        "colab": {
          "base_uri": "https://localhost:8080/"
        },
        "id": "p8Qeda_EDbUY",
        "outputId": "4a308c7a-92c1-4713-9d67-c960557afd62"
      },
      "source": [
        "n = int(input())\n",
        "i_max = int(input())\n",
        "\n",
        "\n",
        "city_bri=input_man(n)\n",
        "\n",
        "\n",
        "solucion,cost=sol_ini(n, city_bri)\n",
        "\n",
        "lista_tabu={}\n",
        "\n",
        "print(\"Solucion inicial\",solucion,cost)\n",
        "   \n",
        "\n",
        "for i in range(i_max):\n",
        "\n",
        "\n",
        "  neighborhood,sel_city=gen_neighborhood(solucion,lista_tabu)\n",
        "\n",
        "\n",
        "  lista_aux={}\n",
        "  for key in lista_tabu:\n",
        "    lista_tabu[key]=lista_tabu[key]-1\n",
        "\n",
        "    if lista_tabu[key] != 0:\n",
        "      lista_aux[key] = lista_tabu[key]\n",
        "\n",
        "  lista_tabu=lista_aux\n",
        "\n",
        "  lista_tabu[sel_city]=n//2\n",
        "\n",
        "\n",
        "  way_aux,cost_aux=better_cost(city_bri,neighborhood)\n",
        "\n",
        "  if cost_aux<cost:\n",
        "    solucion=way_aux\n",
        "    cost=cost_aux\n",
        "\n",
        "print(\"Solucion busqueda tabu:\",solucion,cost)\n",
        "\n"
      ],
      "execution_count": 7,
      "outputs": [
        {
          "output_type": "stream",
          "text": [
            "10\n",
            "100\n",
            "49 30 53 72 19 76 87 45 48\n",
            "19 38 32 31 75 69 61 25\n",
            "41 98 56 6 6 45 53\n",
            "52 29 46 90 23 98\n",
            "63 90 69 50 82\n",
            "60 88 41 95\n",
            "61 92 10\n",
            "82 73\n",
            "5\n",
            "Solucion inicial ['0', '5', '3', '8', '9', '6', '2', '7', '4', '1'] 248\n",
            "Solucion busqueda tabu: ['0', '5', '3', '8', '9', '6', '2', '7', '4', '1'] 248\n"
          ],
          "name": "stdout"
        }
      ]
    },
    {
      "cell_type": "markdown",
      "metadata": {
        "id": "8yxKesWoEZON"
      },
      "source": [
        "# Parte 2"
      ]
    },
    {
      "cell_type": "markdown",
      "metadata": {
        "id": "4duvwTZvEgZc"
      },
      "source": [
        "## Input desde archivo"
      ]
    },
    {
      "cell_type": "code",
      "metadata": {
        "id": "W1cJy39lD53L"
      },
      "source": [
        "def input_file():\n",
        "\n",
        "    file_name=input('file name: ')\n",
        "\n",
        "    file = open(file_name,'r') \n",
        "    \n",
        "    lista=[i for i in file.read().split('\\n')]\n",
        "    \n",
        "    while '' in lista:\n",
        "        lista.remove('')\n",
        "    \n",
        "    n=int(lista[0])\n",
        "\n",
        "    i_max=int(lista[1])\n",
        "\n",
        "    lista=lista[2:]\n",
        "\n",
        "    city_bri = {}\n",
        "\n",
        "\n",
        "    for i in range(n-1):\n",
        "\n",
        "        aux = [int(j) for j in lista[i].split()]\n",
        "\n",
        "        if str(i) not in city_bri:\n",
        "            city_bri[str(i)] = {}\n",
        "\n",
        "        for j, w in enumerate(aux):\n",
        "            city_bri[str(i)][str(i+j+1)] = w\n",
        "\n",
        "            if str(i+j+1) not in city_bri:\n",
        "                city_bri[str(i+j+1)] = {}\n",
        "\n",
        "            city_bri[str(i+j+1)][str(i)] = w\n",
        "\n",
        "    return n,i_max,city_bri\n",
        "\n"
      ],
      "execution_count": 8,
      "outputs": []
    },
    {
      "cell_type": "markdown",
      "metadata": {
        "id": "dh92V0O2ElNq"
      },
      "source": [
        "## Ejecucion Parte 2"
      ]
    },
    {
      "cell_type": "code",
      "metadata": {
        "colab": {
          "base_uri": "https://localhost:8080/"
        },
        "id": "z3RaPO8oEm3G",
        "outputId": "6fd5b6e8-3f5a-4fcf-b94d-b6c0e0a6900d"
      },
      "source": [
        "n,i_max,city_bri=input_file()\n",
        "\n",
        "m=int(input('M: '))\n",
        "\n",
        "\n",
        "\n",
        "b_sol=[]\n",
        "b_cost=float('inf')\n",
        "\n",
        "w_sol=[]\n",
        "w_cost=-float('inf')\n",
        "\n",
        "\n",
        "to_med=[]\n",
        "aux_sol_mediana=[]\n",
        "\n",
        "for M in range(m):\n",
        "\n",
        "    solucion,cost=sol_ini(n, city_bri)\n",
        "\n",
        "    psol=[]\n",
        "    pcost=-float('inf')\n",
        "\n",
        "    lista_tabu={}\n",
        "\n",
        "\n",
        "    for i in range(i_max):\n",
        "\n",
        "\n",
        "        neighborhood,sel_city=gen_neighborhood(solucion,lista_tabu)\n",
        "\n",
        "\n",
        "        lista_aux={}\n",
        "        for key in lista_tabu:\n",
        "            lista_tabu[key]=lista_tabu[key]-1\n",
        "\n",
        "            if lista_tabu[key] != 0:\n",
        "                lista_aux[key] = lista_tabu[key]\n",
        "\n",
        "        lista_tabu=lista_aux\n",
        "\n",
        "        lista_tabu[sel_city]=n//2\n",
        "\n",
        "\n",
        "        way_aux,cost_aux=better_cost(city_bri,neighborhood)\n",
        "\n",
        "\n",
        "        if cost_aux<cost:\n",
        "            solucion=way_aux\n",
        "            cost=cost_aux\n",
        "        \n",
        "\n",
        "    \n",
        "    if cost<b_cost:\n",
        "        b_cost=cost\n",
        "        b_sol=solucion\n",
        "\n",
        "    if cost>w_cost:\n",
        "        w_cost=cost\n",
        "        w_sol=solucion\n",
        "\n",
        "    to_med.append(cost)\n",
        "\n",
        "    aux_sol_mediana.append([solucion,cost])\n",
        "    \n",
        "\n",
        "\n",
        "to_med.sort()\n",
        "#Obtenemos la mediana de los costos\n",
        "if len(to_med)%2==0:\n",
        "    i_mediana=to_med[(len(to_med)//2)-1]\n",
        "    i_mediana=i_mediana+to_med[len(to_med)//2]\n",
        "    i_mediana=i_mediana/2\n",
        "\n",
        "else:\n",
        "    i_mediana=to_med[len(to_med)//2]\n",
        "\n",
        "#Elminamos soluciones repetidas para imprimir menos medianas en caso de que haya repetidos(como hacer set(x))\n",
        "withot_rep=[]\n",
        "\n",
        "for item in aux_sol_mediana:\n",
        "    if item not in withot_rep:\n",
        "        withot_rep.append(item)\n",
        "################################\n",
        "\n",
        "print(\"Solucion inicial\",solucion,cost)\n",
        "\n",
        "\n",
        "print('Peor solucion:',w_sol,w_cost)\n",
        "print(\"Mejor solucion:\",b_sol,b_cost)\n",
        "\n",
        "\n",
        "print('\\nLas siguientes soluciones corresponden a la mediana:')\n",
        "\n",
        "for elemento in withot_rep:\n",
        "    if elemento[1]==i_mediana:\n",
        "        print(elemento)\n",
        "\n",
        "print('\\n')\n",
        "\n",
        "print(\"Media:\",np.mean(to_med))\n",
        "\n",
        "print(\"Desviacion estandar:\",np.std(to_med))\n"
      ],
      "execution_count": 9,
      "outputs": [
        {
          "output_type": "stream",
          "text": [
            "file name: input.txt\n",
            "M: 2\n",
            "Solucion inicial ['0', '5', '3', '8', '9', '6', '2', '7', '4', '1'] 248\n",
            "Peor solucion: ['0', '5', '3', '8', '9', '6', '2', '7', '4', '1'] 248\n",
            "Mejor solucion: ['0', '5', '3', '8', '9', '6', '2', '7', '4', '1'] 248\n",
            "\n",
            "Las siguientes soluciones corresponden a la mediana:\n",
            "[['0', '5', '3', '8', '9', '6', '2', '7', '4', '1'], 248]\n",
            "\n",
            "\n",
            "Media: 248.0\n",
            "Desviacion estandar: 0.0\n"
          ],
          "name": "stdout"
        }
      ]
    },
    {
      "cell_type": "code",
      "metadata": {
        "id": "Kxf7Y_kKFT8Q"
      },
      "source": [
        ""
      ],
      "execution_count": null,
      "outputs": []
    }
  ]
}